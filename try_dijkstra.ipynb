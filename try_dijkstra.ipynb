{
 "cells": [
  {
   "cell_type": "code",
   "execution_count": 2,
   "metadata": {},
   "outputs": [],
   "source": [
    "using Graphs\n",
    "using SimpleWeightedGraphs\n",
    "using CSV, DataFrames"
   ]
  },
  {
   "cell_type": "code",
   "execution_count": 3,
   "metadata": {},
   "outputs": [
    {
     "data": {
      "text/plain": [
       "3"
      ]
     },
     "metadata": {},
     "output_type": "display_data"
    }
   ],
   "source": [
    "network = \"crossring/\"\n",
    "folder = network * \"l3-c5-d2-bt2_test\"\n",
    "n_tsline = 3"
   ]
  },
  {
   "cell_type": "code",
   "execution_count": 4,
   "metadata": {},
   "outputs": [
    {
     "data": {
      "text/html": [
       "<div><div style = \"float: left;\"><span>19×4 DataFrame</span></div><div style = \"clear: both;\"></div></div><div class = \"data-frame\" style = \"overflow-x: scroll;\"><table class = \"data-frame\" style = \"margin-bottom: 6px;\"><thead><tr class = \"header\"><th class = \"rowNumber\" style = \"font-weight: bold; text-align: right;\">Row</th><th style = \"text-align: left;\">x</th><th style = \"text-align: left;\">y</th><th style = \"text-align: left;\">line</th><th style = \"text-align: left;\">transfer</th></tr><tr class = \"subheader headerLastRow\"><th class = \"rowNumber\" style = \"font-weight: bold; text-align: right;\"></th><th title = \"Float64\" style = \"text-align: left;\">Float64</th><th title = \"Float64\" style = \"text-align: left;\">Float64</th><th title = \"Int64\" style = \"text-align: left;\">Int64</th><th title = \"Union{Missing, String7}\" style = \"text-align: left;\">String7?</th></tr></thead><tbody><tr><td class = \"rowNumber\" style = \"font-weight: bold; text-align: right;\">1</td><td style = \"text-align: right;\">-6.0</td><td style = \"text-align: right;\">0.0</td><td style = \"text-align: right;\">1</td><td style = \"font-style: italic; text-align: left;\">missing</td></tr><tr><td class = \"rowNumber\" style = \"font-weight: bold; text-align: right;\">2</td><td style = \"text-align: right;\">-3.0</td><td style = \"text-align: right;\">0.0</td><td style = \"text-align: right;\">1</td><td style = \"text-align: left;\">11,19</td></tr><tr><td class = \"rowNumber\" style = \"font-weight: bold; text-align: right;\">3</td><td style = \"text-align: right;\">0.0</td><td style = \"text-align: right;\">0.0</td><td style = \"text-align: right;\">1</td><td style = \"text-align: left;\">8</td></tr><tr><td class = \"rowNumber\" style = \"font-weight: bold; text-align: right;\">4</td><td style = \"text-align: right;\">3.0</td><td style = \"text-align: right;\">0.0</td><td style = \"text-align: right;\">1</td><td style = \"text-align: left;\">15</td></tr><tr><td class = \"rowNumber\" style = \"font-weight: bold; text-align: right;\">5</td><td style = \"text-align: right;\">6.0</td><td style = \"text-align: right;\">0.0</td><td style = \"text-align: right;\">1</td><td style = \"text-align: left;\"></td></tr><tr><td class = \"rowNumber\" style = \"font-weight: bold; text-align: right;\">6</td><td style = \"text-align: right;\">0.0</td><td style = \"text-align: right;\">6.0</td><td style = \"text-align: right;\">2</td><td style = \"text-align: left;\"></td></tr><tr><td class = \"rowNumber\" style = \"font-weight: bold; text-align: right;\">7</td><td style = \"text-align: right;\">0.0</td><td style = \"text-align: right;\">3.0</td><td style = \"text-align: right;\">2</td><td style = \"text-align: left;\">13</td></tr><tr><td class = \"rowNumber\" style = \"font-weight: bold; text-align: right;\">8</td><td style = \"text-align: right;\">0.0</td><td style = \"text-align: right;\">0.0</td><td style = \"text-align: right;\">2</td><td style = \"text-align: left;\">3</td></tr><tr><td class = \"rowNumber\" style = \"font-weight: bold; text-align: right;\">9</td><td style = \"text-align: right;\">0.0</td><td style = \"text-align: right;\">-3.0</td><td style = \"text-align: right;\">2</td><td style = \"text-align: left;\">17</td></tr><tr><td class = \"rowNumber\" style = \"font-weight: bold; text-align: right;\">10</td><td style = \"text-align: right;\">0.0</td><td style = \"text-align: right;\">-6.0</td><td style = \"text-align: right;\">2</td><td style = \"text-align: left;\"></td></tr><tr><td class = \"rowNumber\" style = \"font-weight: bold; text-align: right;\">11</td><td style = \"text-align: right;\">-3.0</td><td style = \"text-align: right;\">0.0</td><td style = \"text-align: right;\">3</td><td style = \"text-align: left;\">2</td></tr><tr><td class = \"rowNumber\" style = \"font-weight: bold; text-align: right;\">12</td><td style = \"text-align: right;\">-3.0</td><td style = \"text-align: right;\">3.0</td><td style = \"text-align: right;\">3</td><td style = \"text-align: left;\"></td></tr><tr><td class = \"rowNumber\" style = \"font-weight: bold; text-align: right;\">13</td><td style = \"text-align: right;\">0.0</td><td style = \"text-align: right;\">3.0</td><td style = \"text-align: right;\">3</td><td style = \"text-align: left;\">7</td></tr><tr><td class = \"rowNumber\" style = \"font-weight: bold; text-align: right;\">14</td><td style = \"text-align: right;\">3.0</td><td style = \"text-align: right;\">3.0</td><td style = \"text-align: right;\">3</td><td style = \"text-align: left;\"></td></tr><tr><td class = \"rowNumber\" style = \"font-weight: bold; text-align: right;\">15</td><td style = \"text-align: right;\">3.0</td><td style = \"text-align: right;\">0.0</td><td style = \"text-align: right;\">3</td><td style = \"text-align: left;\">4</td></tr><tr><td class = \"rowNumber\" style = \"font-weight: bold; text-align: right;\">16</td><td style = \"text-align: right;\">3.0</td><td style = \"text-align: right;\">-3.0</td><td style = \"text-align: right;\">3</td><td style = \"text-align: left;\"></td></tr><tr><td class = \"rowNumber\" style = \"font-weight: bold; text-align: right;\">17</td><td style = \"text-align: right;\">0.0</td><td style = \"text-align: right;\">-3.0</td><td style = \"text-align: right;\">3</td><td style = \"text-align: left;\">9</td></tr><tr><td class = \"rowNumber\" style = \"font-weight: bold; text-align: right;\">18</td><td style = \"text-align: right;\">-3.0</td><td style = \"text-align: right;\">-3.0</td><td style = \"text-align: right;\">3</td><td style = \"text-align: left;\"></td></tr><tr><td class = \"rowNumber\" style = \"font-weight: bold; text-align: right;\">19</td><td style = \"text-align: right;\">-3.0</td><td style = \"text-align: right;\">0.0</td><td style = \"text-align: right;\">3</td><td style = \"text-align: left;\">2</td></tr></tbody></table></div>"
      ],
      "text/latex": [
       "\\begin{tabular}{r|cccc}\n",
       "\t& x & y & line & transfer\\\\\n",
       "\t\\hline\n",
       "\t& Float64 & Float64 & Int64 & String7?\\\\\n",
       "\t\\hline\n",
       "\t1 & -6.0 & 0.0 & 1 & \\emph{missing} \\\\\n",
       "\t2 & -3.0 & 0.0 & 1 & 11,19 \\\\\n",
       "\t3 & 0.0 & 0.0 & 1 & 8 \\\\\n",
       "\t4 & 3.0 & 0.0 & 1 & 15 \\\\\n",
       "\t5 & 6.0 & 0.0 & 1 &  \\\\\n",
       "\t6 & 0.0 & 6.0 & 2 &  \\\\\n",
       "\t7 & 0.0 & 3.0 & 2 & 13 \\\\\n",
       "\t8 & 0.0 & 0.0 & 2 & 3 \\\\\n",
       "\t9 & 0.0 & -3.0 & 2 & 17 \\\\\n",
       "\t10 & 0.0 & -6.0 & 2 &  \\\\\n",
       "\t11 & -3.0 & 0.0 & 3 & 2 \\\\\n",
       "\t12 & -3.0 & 3.0 & 3 &  \\\\\n",
       "\t13 & 0.0 & 3.0 & 3 & 7 \\\\\n",
       "\t14 & 3.0 & 3.0 & 3 &  \\\\\n",
       "\t15 & 3.0 & 0.0 & 3 & 4 \\\\\n",
       "\t16 & 3.0 & -3.0 & 3 &  \\\\\n",
       "\t17 & 0.0 & -3.0 & 3 & 9 \\\\\n",
       "\t18 & -3.0 & -3.0 & 3 &  \\\\\n",
       "\t19 & -3.0 & 0.0 & 3 & 2 \\\\\n",
       "\\end{tabular}\n"
      ],
      "text/plain": [
       "\u001b[1m19×4 DataFrame\u001b[0m\n",
       "\u001b[1m Row \u001b[0m│\u001b[1m x       \u001b[0m\u001b[1m y       \u001b[0m\u001b[1m line  \u001b[0m\u001b[1m transfer \u001b[0m\n",
       "     │\u001b[90m Float64 \u001b[0m\u001b[90m Float64 \u001b[0m\u001b[90m Int64 \u001b[0m\u001b[90m String7? \u001b[0m\n",
       "─────┼───────────────────────────────────\n",
       "   1 │    -6.0      0.0      1 \u001b[90m missing  \u001b[0m\n",
       "   2 │    -3.0      0.0      1  11,19\n",
       "   3 │     0.0      0.0      1  8\n",
       "   4 │     3.0      0.0      1  15\n",
       "   5 │     6.0      0.0      1\n",
       "   6 │     0.0      6.0      2\n",
       "   7 │     0.0      3.0      2  13\n",
       "   8 │     0.0      0.0      2  3\n",
       "  ⋮  │    ⋮        ⋮       ⋮       ⋮\n",
       "  13 │     0.0      3.0      3  7\n",
       "  14 │     3.0      3.0      3\n",
       "  15 │     3.0      0.0      3  4\n",
       "  16 │     3.0     -3.0      3\n",
       "  17 │     0.0     -3.0      3  9\n",
       "  18 │    -3.0     -3.0      3\n",
       "  19 │    -3.0      0.0      3  2\n",
       "\u001b[36m                           4 rows omitted\u001b[0m"
      ]
     },
     "metadata": {},
     "output_type": "display_data"
    }
   ],
   "source": [
    "TS_data = CSV.read( network * \"crossring-network.csv\", DataFrame, header = true)"
   ]
  },
  {
   "cell_type": "code",
   "execution_count": 5,
   "metadata": {},
   "outputs": [
    {
     "data": {
      "text/plain": [
       "19-element Vector{Vector{Int64}}:\n",
       " []\n",
       " [11, 19]\n",
       " [8]\n",
       " [15]\n",
       " []\n",
       " []\n",
       " [13]\n",
       " [3]\n",
       " [17]\n",
       " []\n",
       " [2]\n",
       " []\n",
       " [7]\n",
       " []\n",
       " [4]\n",
       " []\n",
       " [9]\n",
       " []\n",
       " [2]"
      ]
     },
     "metadata": {},
     "output_type": "display_data"
    }
   ],
   "source": [
    "# Function to parse strings into appropriate data types\n",
    "function parse_column(str)\n",
    "    if ismissing(str) || isempty(str)\n",
    "        return Int[]\n",
    "    elseif occursin(',', str)\n",
    "        return parse.(Int, split(str, ','))\n",
    "    else\n",
    "        return [parse(Int, str)]\n",
    "    end\n",
    "end\n",
    "\n",
    "TS_data.transfer = parse_column.(TS_data.transfer)"
   ]
  },
  {
   "cell_type": "code",
   "execution_count": 6,
   "metadata": {},
   "outputs": [
    {
     "data": {
      "text/plain": [
       "3-element Vector{DataFrame}:\n",
       " \u001b[1m3×6 DataFrame\u001b[0m\n",
       "\u001b[1m Row \u001b[0m│\u001b[1m 1       \u001b[0m\u001b[1m 2       \u001b[0m\u001b[1m 3       \u001b[0m\u001b[1m 4       \u001b[0m\u001b[1m 5       \u001b[0m\u001b[1m Direction \u001b[0m\n",
       "     │\u001b[90m Float64 \u001b[0m\u001b[90m Float64 \u001b[0m\u001b[90m Float64 \u001b[0m\u001b[90m Float64 \u001b[0m\u001b[90m Float64 \u001b[0m\u001b[90m Float64   \u001b[0m\n",
       "─────┼────────────────────────────────────────────────────────\n",
       "   1 │    20.0     26.0     32.0     38.0     44.0        1.0\n",
       "   2 │    49.0     43.0     37.0     31.0     25.0        0.0\n",
       "   3 │    50.0     56.0     62.0     68.0     74.0        1.0\n",
       " \u001b[1m2×6 DataFrame\u001b[0m\n",
       "\u001b[1m Row \u001b[0m│\u001b[1m 6       \u001b[0m\u001b[1m 7       \u001b[0m\u001b[1m 8       \u001b[0m\u001b[1m 9       \u001b[0m\u001b[1m 10      \u001b[0m\u001b[1m Direction \u001b[0m\n",
       "     │\u001b[90m Float64 \u001b[0m\u001b[90m Float64 \u001b[0m\u001b[90m Float64 \u001b[0m\u001b[90m Float64 \u001b[0m\u001b[90m Float64 \u001b[0m\u001b[90m Float64   \u001b[0m\n",
       "─────┼────────────────────────────────────────────────────────\n",
       "   1 │    23.0     29.0     35.0     41.0     47.0        1.0\n",
       "   2 │    52.0     46.0     40.0     34.0     28.0        0.0\n",
       " \u001b[1m2×10 DataFrame\u001b[0m\n",
       "\u001b[1m Row \u001b[0m│\u001b[1m 11      \u001b[0m\u001b[1m 12      \u001b[0m\u001b[1m 13      \u001b[0m\u001b[1m 14      \u001b[0m\u001b[1m 15      \u001b[0m\u001b[1m 16      \u001b[0m\u001b[1m 17      \u001b[0m\u001b[1m 18      \u001b[0m\u001b[1m\u001b[0m ⋯\n",
       "     │\u001b[90m Float64 \u001b[0m\u001b[90m Float64 \u001b[0m\u001b[90m Float64 \u001b[0m\u001b[90m Float64 \u001b[0m\u001b[90m Float64 \u001b[0m\u001b[90m Float64 \u001b[0m\u001b[90m Float64 \u001b[0m\u001b[90m Float64 \u001b[0m\u001b[90m\u001b[0m ⋯\n",
       "─────┼──────────────────────────────────────────────────────────────────────────\n",
       "   1 │    26.0     32.0     38.0     44.0     50.0     56.0     62.0     68.0  ⋯\n",
       "   2 │    79.0     73.0     67.0     61.0     55.0     49.0     43.0     37.0\n",
       "\u001b[36m                                                               2 columns omitted\u001b[0m"
      ]
     },
     "metadata": {},
     "output_type": "display_data"
    }
   ],
   "source": [
    "timetables = [CSV.read(\"$folder/timetable_line$i.csv\", DataFrame) for i in 1:n_tsline]"
   ]
  },
  {
   "cell_type": "code",
   "execution_count": 7,
   "metadata": {},
   "outputs": [
    {
     "data": {
      "text/plain": [
       "19"
      ]
     },
     "metadata": {},
     "output_type": "display_data"
    }
   ],
   "source": [
    "n_layer = maximum(nrow.(timetables))\n",
    "n_ts = size(TS_data)[1]"
   ]
  },
  {
   "cell_type": "code",
   "execution_count": 8,
   "metadata": {},
   "outputs": [],
   "source": [
    "struct TransitStation\n",
    "    ID::Int64 # the phsical number of transit stop\n",
    "    coord::Tuple{Float64,Float64}\n",
    "    layer_no::Int64\n",
    "    dep_time::Float64\n",
    "    arr_time::Float64\n",
    "    lineNo::Int64 # at which transit line\n",
    "    transfer::Vector{Int64}\n",
    "    μ::Float64 # service time\n",
    "end"
   ]
  },
  {
   "cell_type": "code",
   "execution_count": 9,
   "metadata": {},
   "outputs": [],
   "source": [
    "# Base.isnan(ts::TransitStation) = !isa(ts, TransitStation)"
   ]
  },
  {
   "cell_type": "code",
   "execution_count": 10,
   "metadata": {},
   "outputs": [
    {
     "data": {
      "text/plain": [
       "3×19 Matrix{Int64}:\n",
       "  1   2   3   4   5   6   7   8   9  10  11  12  13  14  15  16  17  18  19\n",
       " 20  21  22  23  24  25  26  27  28  29  30  31  32  33  34  35  36  37  38\n",
       " 39  40  41  42  43  44  45  46  47  48  49  50  51  52  53  54  55  56  57"
      ]
     },
     "metadata": {},
     "output_type": "display_data"
    }
   ],
   "source": [
    "ts_map = permutedims(reshape(1:n_ts*n_layer, n_ts, n_layer)) # row: layer number; column: transit stops"
   ]
  },
  {
   "cell_type": "code",
   "execution_count": 11,
   "metadata": {},
   "outputs": [],
   "source": [
    "dwel_time = 1\n",
    "ts_nodes = Vector(undef, n_ts*n_layer)\n",
    "for lyr in 1:n_layer\n",
    "    for ts in 1:n_ts\n",
    "        coord = (TS_data[ts,:x], TS_data[ts,:y])\n",
    "        lineNo = TS_data[ts,:line]\n",
    "        transfer = TS_data[ts, :transfer]\n",
    "        if lyr <= size(timetables[lineNo])[1] \n",
    "            dep_time = timetables[lineNo][lyr,\"$ts\"]\n",
    "            arr_time = dep_time .- dwel_time\n",
    "            ts_dum = ts_map[lyr, ts]\n",
    "            ts_nodes[ts_dum] = TransitStation(ts, coord, lyr, dep_time, arr_time, lineNo, transfer, 0.0)\n",
    "        else\n",
    "            ts_dum = ts_map[lyr, ts]\n",
    "            ts_map[lyr, ts] = 0\n",
    "            ts_nodes[ts_dum] = NaN\n",
    "        end\n",
    "    end\n",
    "end"
   ]
  },
  {
   "cell_type": "code",
   "execution_count": 12,
   "metadata": {},
   "outputs": [
    {
     "data": {
      "text/plain": [
       "57-element Vector{Any}:\n",
       "    TransitStation(1, (-6.0, 0.0), 1, 20.0, 19.0, 1, Int64[], 0.0)\n",
       "    TransitStation(2, (-3.0, 0.0), 1, 26.0, 25.0, 1, [11, 19], 0.0)\n",
       "    TransitStation(3, (0.0, 0.0), 1, 32.0, 31.0, 1, [8], 0.0)\n",
       "    TransitStation(4, (3.0, 0.0), 1, 38.0, 37.0, 1, [15], 0.0)\n",
       "    TransitStation(5, (6.0, 0.0), 1, 44.0, 43.0, 1, Int64[], 0.0)\n",
       "    TransitStation(6, (0.0, 6.0), 1, 23.0, 22.0, 2, Int64[], 0.0)\n",
       "    TransitStation(7, (0.0, 3.0), 1, 29.0, 28.0, 2, [13], 0.0)\n",
       "    TransitStation(8, (0.0, 0.0), 1, 35.0, 34.0, 2, [3], 0.0)\n",
       "    TransitStation(9, (0.0, -3.0), 1, 41.0, 40.0, 2, [17], 0.0)\n",
       "    TransitStation(10, (0.0, -6.0), 1, 47.0, 46.0, 2, Int64[], 0.0)\n",
       "   ⋮\n",
       " NaN\n",
       " NaN\n",
       " NaN\n",
       " NaN\n",
       " NaN\n",
       " NaN\n",
       " NaN\n",
       " NaN\n",
       " NaN"
      ]
     },
     "metadata": {},
     "output_type": "display_data"
    }
   ],
   "source": [
    "# filter!(x -> isa(x,TransitStation), ts_nodes)\n",
    "ts_nodes"
   ]
  },
  {
   "cell_type": "code",
   "execution_count": 13,
   "metadata": {},
   "outputs": [
    {
     "data": {
      "text/plain": [
       "+ (generic function with 218 methods)"
      ]
     },
     "metadata": {},
     "output_type": "display_data"
    }
   ],
   "source": [
    "import Base.+\n",
    "+(range::UnitRange{Int64}, offset::Int64) = UnitRange(range.start + offset, range.stop + offset)"
   ]
  },
  {
   "cell_type": "code",
   "execution_count": 14,
   "metadata": {},
   "outputs": [
    {
     "data": {
      "text/plain": [
       "3-element Vector{UnitRange{Int64}}:\n",
       " 1:5\n",
       " 6:10\n",
       " 11:19"
      ]
     },
     "metadata": {},
     "output_type": "display_data"
    }
   ],
   "source": [
    "stops_line = [count(x -> x == i, TS_data.line) for i in 1:n_tsline]\n",
    "start_indices = cumsum([1;stops_line[1:end-1]])\n",
    "ranges_list = [start: start + length - 1 for (start, length) in zip(start_indices, stops_line)]"
   ]
  },
  {
   "cell_type": "code",
   "execution_count": 15,
   "metadata": {},
   "outputs": [
    {
     "data": {
      "text/plain": [
       "find_transfer_arcs (generic function with 1 method)"
      ]
     },
     "metadata": {},
     "output_type": "display_data"
    }
   ],
   "source": [
    "function find_transfer_arcs(ts1_dm::Int64, ts_nodes::Vector, ts_map::Matrix; max_transfer_time = 10.0)\n",
    "    ts1 = ts_nodes[ts1_dm]\n",
    "    transfers = ts1.transfer\n",
    "    arcs = Vector{NamedTuple{(:ts1, :ts2, :tt), Tuple{Int64, Int64, Float64}}}()\n",
    "    for ts2_ID in transfers\n",
    "        ts2_dummies = ts_map[:,ts2_ID]\n",
    "        filter!(x -> x != 0, ts2_dummies)\n",
    "        for ts2_dm in ts2_dummies\n",
    "            ts2 = ts_nodes[ts2_dm]\n",
    "            tt = ts2.dep_time - ts1.arr_time\n",
    "            if tt > 0 && tt <= max_transfer_time\n",
    "                push!(arcs, (ts1 = ts1_dm, ts2 = ts2_dm, tt = tt))\n",
    "            end\n",
    "        end\n",
    "    end\n",
    "    return arcs\n",
    "end"
   ]
  },
  {
   "cell_type": "code",
   "execution_count": 16,
   "metadata": {},
   "outputs": [
    {
     "name": "stdout",
     "output_type": "stream",
     "text": [
      "connect: "
     ]
    },
    {
     "name": "stdout",
     "output_type": "stream",
     "text": [
      "NamedTuple{(:ts1, :ts2, :tt), Tuple{Int64, Int64, Float64}}[(ts1 = 2, ts2 = 11, tt = 1.0), (ts1 = 2, ts2 = 38, tt = 6.0)]\n",
      "connect: NamedTuple{(:ts1, :ts2, :tt), Tuple{Int64, Int64, Float64}}[(ts1 = 3, ts2 = 8, tt = 4.0), (ts1 = 3, ts2 = 27, tt = 9.0)]\n",
      "connect: NamedTuple{(:ts1, :ts2, :tt), Tuple{Int64, Int64, Float64}}[(ts1 = 7, ts2 = 13, tt = 10.0)]\n",
      "connect: NamedTuple{(:ts1, :ts2, :tt), Tuple{Int64, Int64, Float64}}[(ts1 = 8, ts2 = 22, tt = 3.0)]\n",
      "connect: NamedTuple{(:ts1, :ts2, :tt), Tuple{Int64, Int64, Float64}}[(ts1 = 9, ts2 = 36, tt = 3.0)]\n",
      "connect: NamedTuple{(:ts1, :ts2, :tt), Tuple{Int64, Int64, Float64}}[(ts1 = 11, ts2 = 2, tt = 1.0)]\n",
      "connect: NamedTuple{(:ts1, :ts2, :tt), Tuple{Int64, Int64, Float64}}[(ts1 = 13, ts2 = 26, tt = 9.0)]\n",
      "connect: NamedTuple{(:ts1, :ts2, :tt), Tuple{Int64, Int64, Float64}}[(ts1 = "
     ]
    },
    {
     "name": "stdout",
     "output_type": "stream",
     "text": [
      "22, ts2 = 27, tt = 4.0)]\n",
      "connect: NamedTuple{(:ts1, :ts2, :tt), Tuple{Int64, Int64, Float64}}[(ts1 = 28, ts2 = 36, tt = 10.0)]\n"
     ]
    }
   ],
   "source": [
    "access_arcs = Vector{NamedTuple{(:ts1, :ts2, :tt), Tuple{Int64, Int64, Float64}}}()\n",
    "transfer_arcs = Vector{NamedTuple{(:ts1, :ts2, :tt), Tuple{Int64, Int64, Float64}}}()\n",
    "arcs_dict = Dict((l,lyr) =>[] for lyr in 1:n_layer for l in 1:n_ts)\n",
    "max_transfer_time = 10.0\n",
    "for lyr in 1:n_layer\n",
    "    for l in 1:n_tsline\n",
    "        ts_range = ranges_list[l] + 19*(lyr-1)\n",
    "        if ts_map[lyr,ranges_list[l].start] == 0\n",
    "            continue\n",
    "        end\n",
    "        direction = timetables[l].Direction[lyr]\n",
    "        # println(\"ts range: \", ts_range)\n",
    "        \n",
    "        for ts1 in ts_range\n",
    "            # arcs within the same line\n",
    "            for ts2 in ts_range             \n",
    "                if direction == 1 && ts2 > ts1\n",
    "                    tt = ts_nodes[ts2].dep_time - ts_nodes[ts1].arr_time\n",
    "                    push!(access_arcs, (ts1 = ts1, ts2 = ts2, tt = tt))\n",
    "                    push!(arcs_dict[(l,lyr)], (ts1,ts2))\n",
    "                elseif direction == 0 && ts1 < ts2\n",
    "                    tt = ts_nodes[ts1].dep_time - ts_nodes[ts2].arr_time\n",
    "                    push!(access_arcs, (ts1 = ts2, ts2 = ts1, tt = tt))\n",
    "                    push!(arcs_dict[(l,lyr)], (ts2, ts1))\n",
    "                end\n",
    "            end\n",
    "            \n",
    "            # trasfer arcs to different lines\n",
    "            if isempty(ts_nodes[ts1].transfer)\n",
    "                continue\n",
    "            else\n",
    "                transfer_arcs_node = find_transfer_arcs(ts1, ts_nodes, ts_map, max_transfer_time = max_transfer_time)\n",
    "                if !isempty(transfer_arcs_node)\n",
    "                    println(\"connect: \", transfer_arcs_node)\n",
    "                    # access_arcs = [access_arcs; transfer_arcs]\n",
    "                    transfer_arcs = [transfer_arcs; transfer_arcs_node]\n",
    "                end\n",
    "            end\n",
    "        end\n",
    "\n",
    "    end\n",
    "end"
   ]
  },
  {
   "cell_type": "code",
   "execution_count": 56,
   "metadata": {},
   "outputs": [
    {
     "data": {
      "text/plain": [
       "11"
      ]
     },
     "metadata": {},
     "output_type": "display_data"
    }
   ],
   "source": [
    "length(access_arcs)\n",
    "length(transfer_arcs)"
   ]
  },
  {
   "cell_type": "code",
   "execution_count": 17,
   "metadata": {},
   "outputs": [
    {
     "data": {
      "text/plain": [
       "{57, 0} directed simple Int64 graph with Float64 weights"
      ]
     },
     "metadata": {},
     "output_type": "display_data"
    }
   ],
   "source": [
    "ts_graph = SimpleWeightedDiGraph(n_ts*n_layer)"
   ]
  },
  {
   "cell_type": "code",
   "execution_count": 18,
   "metadata": {},
   "outputs": [
    {
     "data": {
      "text/plain": [
       "{57, 133} directed simple Int64 graph with Float64 weights"
      ]
     },
     "metadata": {},
     "output_type": "display_data"
    }
   ],
   "source": [
    "for arc in access_arcs\n",
    "    add_edge!(ts_graph, arc.ts1, arc.ts2, arc.tt)\n",
    "end\n",
    "for arc in transfer_arcs\n",
    "    add_edge!(ts_graph, arc.ts1, arc.ts2, arc.tt)\n",
    "end\n",
    "ts_graph"
   ]
  },
  {
   "cell_type": "code",
   "execution_count": 19,
   "metadata": {},
   "outputs": [
    {
     "data": {
      "text/plain": [
       "shortest_ts_arc! (generic function with 1 method)"
      ]
     },
     "metadata": {},
     "output_type": "display_data"
    }
   ],
   "source": [
    "function shortest_ts_arc!(nodes_o::Int64, traveltime_ts::Matrix{Float64})\n",
    "    r = dijkstra_shortest_paths(ts_graph, node_o)\n",
    "    active_arcs = []\n",
    "    fixed = []\n",
    "    for (i,tt) in enumerate(r.dists)\n",
    "        identity_arc = Dict()\n",
    "        if isinf(tt) || tt <= 0\n",
    "            continue\n",
    "        else\n",
    "            if (ts_nodes[i].ID ∉ fixed) && (ts_nodes[i].ID != node_o)\n",
    "                if isempty(ts_nodes[i].transfer)\n",
    "                    push!(fixed, ts_nodes[i].ID)\n",
    "                    push!(active_arcs,(node_o, i, tt))\n",
    "                    traveltime_ts[nodes_o,i] = tt\n",
    "                    # println(\"($node_o, $i): is $tt minutes\")\n",
    "                else    \n",
    "                    # keep the shortest travel time (node_o,i) and (node_o,tfr)\n",
    "                    compares = [i; ts_nodes[i].transfer]\n",
    "                    shortes_ts = argmin(r.dists[compares])\n",
    "                    shortes_ts = compares[shortes_ts]    \n",
    "                    fixed = [fixed; compares]\n",
    "                    push!(active_arcs, (node_o, i, tt)) \n",
    "                    traveltime_ts[nodes_o, i] = tt\n",
    "                    # println(\"($node_o, $i): is $tt minutes\")       \n",
    "                end\n",
    "            else\n",
    "                continue\n",
    "            end\n",
    "            \n",
    "        end\n",
    "    end\n",
    "    return active_arcs\n",
    "end"
   ]
  },
  {
   "cell_type": "code",
   "execution_count": 60,
   "metadata": {},
   "outputs": [
    {
     "data": {
      "text/plain": [
       "14-element Vector{Any}:\n",
       " (2, 3, 7.0)\n",
       " (2, 4, 13.0)\n",
       " (2, 5, 19.0)\n",
       " (2, 9, 18.0)\n",
       " (2, 10, 24.0)\n",
       " (2, 11, 1.0)\n",
       " (2, 12, 8.0)\n",
       " (2, 13, 14.0)\n",
       " (2, 14, 20.0)\n",
       " (2, 16, 32.0)\n",
       " (2, 18, 44.0)\n",
       " (2, 19, 50.0)\n",
       " (2, 20, 27.0)\n",
       " (2, 25, 29.0)"
      ]
     },
     "metadata": {},
     "output_type": "display_data"
    }
   ],
   "source": [
    "traveltime_ts = 1000 * ones(maximum(ts_map), maximum(ts_map))\n",
    "node_o = 2\n",
    "active_arcs = shortest_ts_arc!(2, traveltime_ts)"
   ]
  },
  {
   "cell_type": "code",
   "execution_count": 20,
   "metadata": {},
   "outputs": [
    {
     "data": {
      "text/plain": [
       "get_arcs (generic function with 1 method)"
      ]
     },
     "metadata": {},
     "output_type": "display_data"
    }
   ],
   "source": [
    "get_arcs(arc::NamedTuple{(:ts1, :ts2, :tt), Tuple{Int64, Int64, Float64}}) = (arc.ts1,arc.ts2)"
   ]
  },
  {
   "cell_type": "code",
   "execution_count": 41,
   "metadata": {},
   "outputs": [],
   "source": [
    "traveltime_ts = Inf * ones(n_ts*n_layer, n_ts*n_layer)\n",
    "traveltime_ts_nowaiting = Inf * ones(n_ts*n_layer, n_ts*n_layer)\n",
    "paths_ts = Dict{Tuple, Vector}()\n",
    "arcs_transfer = get_arcs.(transfer_arcs)\n",
    "for node_o in 1:n_ts*n_layer\n",
    "    r = dijkstra_shortest_paths(ts_graph, node_o)\n",
    "    traveltime_ts[node_o,:] = r.dists\n",
    "    for node_d in 1:n_ts*n_layer\n",
    "        path = enumerate_paths(r,node_d)\n",
    "        if node_o == node_d\n",
    "            traveltime_ts[node_o, node_d] == Inf\n",
    "        elseif (node_o, node_d) ∈ arcs_transfer\n",
    "            traveltime_ts[node_o, node_d] == Inf\n",
    "        elseif length(path) < 2\n",
    "            continue\n",
    "        elseif length(path) == 3\n",
    "            traveltime_ts[node_o, node_d] == Inf\n",
    "            # println(node_o, \", \", node_d)\n",
    "        else\n",
    "            paths_ts[(node_o, node_d)] = path\n",
    "        end\n",
    "    end\n",
    "end"
   ]
  },
  {
   "cell_type": "code",
   "execution_count": 42,
   "metadata": {},
   "outputs": [
    {
     "data": {
      "text/plain": [
       "3×19 Matrix{Int64}:\n",
       "  1   2   3   4   5   6   7   8   9  10  11  12  13  14  15  16  17  18  19\n",
       " 20  21  22  23  24  25  26  27  28  29  30  31  32  33  34  35  36  37  38\n",
       " 39  40  41  42  43   0   0   0   0   0   0   0   0   0   0   0   0   0   0"
      ]
     },
     "metadata": {},
     "output_type": "display_data"
    }
   ],
   "source": [
    "ts_map"
   ]
  },
  {
   "cell_type": "code",
   "execution_count": 43,
   "metadata": {},
   "outputs": [],
   "source": [
    "for i in 1:n_ts*n_layer\n",
    "# for i in 1:1\n",
    "    for j in 1:n_ts*n_layer\n",
    "    # for j in 2:2\n",
    "        if isa(ts_nodes[j], TransitStation)\n",
    "            if isempty(ts_nodes[j].transfer)\n",
    "                continue\n",
    "            else\n",
    "                # @info j\n",
    "                ts_phy = findfirst(x->x==j,ts_map)[2]\n",
    "                compares = hcat(ts_map[:,[ts_phy;ts_nodes[j].transfer]]...)[1,:]\n",
    "                filter!(x->x!=0, compares)\n",
    "                # @info compares\n",
    "                select = compares[argmin(traveltime_ts[i,compares])]\n",
    "                if (i == 28) && (j == 35)\n",
    "                    @info select\n",
    "                end\n",
    "                filter!(x->x!=select,compares)\n",
    "                # @info select, compares\n",
    "                traveltime_ts[i,compares] .= Inf\n",
    "                for arc in [(i,k) for k in compares]\n",
    "                    delete!(paths_ts, arc)\n",
    "                end\n",
    "            end\n",
    "        end\n",
    "    end\n",
    "end"
   ]
  },
  {
   "cell_type": "code",
   "execution_count": 44,
   "metadata": {},
   "outputs": [
    {
     "data": {
      "text/plain": [
       "Dict{Tuple, Vector} with 180 entries:\n",
       "  (32, 30) => [32, 30]\n",
       "  (7, 8)   => [7, 8]\n",
       "  (14, 15) => [14, 15]\n",
       "  (1, 9)   => [1, 3, 8, 9]\n",
       "  (38, 33) => [38, 33]\n",
       "  (27, 26) => [27, 26]\n",
       "  (28, 25) => [28, 25]\n",
       "  (17, 19) => [17, 19]\n",
       "  (16, 18) => [16, 18]\n",
       "  (3, 33)  => [3, 8, 9, 36, 33]\n",
       "  (23, 21) => [23, 21]\n",
       "  (1, 3)   => [1, 3]\n",
       "  (7, 25)  => [7, 13, 26, 25]\n",
       "  (1, 20)  => [1, 3, 8, 22, 20]\n",
       "  (15, 19) => [15, 19]\n",
       "  (22, 20) => [22, 20]\n",
       "  (3, 4)   => [3, 4]\n",
       "  (6, 31)  => [6, 9, 36, 31]\n",
       "  (36, 35) => [36, 35]\n",
       "  ⋮        => ⋮"
      ]
     },
     "metadata": {},
     "output_type": "display_data"
    }
   ],
   "source": [
    "paths_ts"
   ]
  },
  {
   "cell_type": "code",
   "execution_count": 33,
   "metadata": {},
   "outputs": [
    {
     "data": {
      "text/plain": [
       "7.0"
      ]
     },
     "metadata": {},
     "output_type": "display_data"
    }
   ],
   "source": [
    "paths_ts[(28,35)]\n",
    "paths_ts[(36,35)]\n",
    "traveltime_ts[36,35]"
   ]
  },
  {
   "cell_type": "code",
   "execution_count": 143,
   "metadata": {},
   "outputs": [],
   "source": [
    "compares\n",
    "to_delet = [(1,k) for k in compares]\n",
    "for arc in [(1,k) for k in compares]\n",
    "    delete!(paths_ts, arc)\n",
    "end"
   ]
  },
  {
   "cell_type": "code",
   "execution_count": 144,
   "metadata": {},
   "outputs": [
    {
     "ename": "KeyError",
     "evalue": "KeyError: key (1, 21) not found",
     "output_type": "error",
     "traceback": [
      "KeyError: key (1, 21) not found\n",
      "\n",
      "Stacktrace:\n",
      " [1] getindex(h::Dict{Tuple, Vector}, key::Tuple{Int64, Int64})\n",
      "   @ Base .\\dict.jl:484\n",
      " [2] top-level scope\n",
      "   @ c:\\Users\\yumeng\\OneDrive - University of Luxembourg\\Documents\\Yumeng\\PhDproject\\WP2\\code\\EIDARPgenerator\\try_dijkstra.ipynb:1"
     ]
    }
   ],
   "source": [
    "paths_ts[(1,21)]"
   ]
  },
  {
   "cell_type": "code",
   "execution_count": 63,
   "metadata": {},
   "outputs": [
    {
     "name": "stdout",
     "output_type": "stream",
     "text": [
      "(ts1 = 2, ts2 = 11, tt = 1.0)\n",
      "(ts1 = 2, ts2 = 38, tt = 6.0)\n",
      "(ts1 = 3, ts2 = 8, tt = 4.0)\n",
      "(ts1 = 3, ts2 = 27, tt = 9.0)\n",
      "(ts1 = 7, ts2 = 13, tt = 10.0)\n",
      "(ts1 = 8, ts2 = 22, tt = 3.0)\n",
      "(ts1 = 9, ts2 = 36, tt = 3.0)\n",
      "(ts1 = 11, ts2 = 2, tt = 1.0)\n",
      "(ts1 = 13, ts2 = 26, tt = 9.0)\n",
      "(ts1 = 22, ts2 = 27, tt = 4.0)\n",
      "(ts1 = 28, ts2 = 36, tt = 10.0)\n"
     ]
    }
   ],
   "source": [
    "for arc in transfer_arcs\n",
    "    println(arc)\n",
    "end"
   ]
  },
  {
   "cell_type": "code",
   "execution_count": 101,
   "metadata": {},
   "outputs": [],
   "source": [
    "for i in 1:n_ts*n_layer    \n",
    "    for arc in transfer_arcs\n",
    "        ts1, ts2 = arc.ts1, arc.ts2\n",
    "        if isinf(traveltime_ts[i,ts1]) || isinf(traveltime_ts[i,ts2])\n",
    "            continue\n",
    "        elseif traveltime_ts[i,ts1] <= traveltime_ts[i,ts2]\n",
    "            traveltime_ts[i,ts2] == Inf\n",
    "            delete!(paths_ts, (i,ts2))\n",
    "        elseif traveltime_ts[i,ts1] > traveltime_ts[i,ts2]\n",
    "            traveltime_ts[i, ts1] == Inf\n",
    "            delete!(paths_ts, (i,ts1))\n",
    "        end\n",
    "    end\n",
    "end"
   ]
  },
  {
   "cell_type": "code",
   "execution_count": 103,
   "metadata": {},
   "outputs": [
    {
     "data": {
      "text/plain": [
       "KeySet for a Dict{Tuple, Vector} with 210 entries. Keys:\n",
       "  (11, 17)\n",
       "  (32, 30)\n",
       "  (7, 8)\n",
       "  (14, 15)\n",
       "  (1, 9)\n",
       "  (38, 33)\n",
       "  (27, 26)\n",
       "  (28, 25)\n",
       "  (17, 19)\n",
       "  (16, 18)\n",
       "  (11, 32)\n",
       "  (3, 33)\n",
       "  (23, 21)\n",
       "  (1, 3)\n",
       "  (7, 25)\n",
       "  (1, 20)\n",
       "  (15, 19)\n",
       "  (22, 20)\n",
       "  (3, 4)\n",
       "  ⋮"
      ]
     },
     "metadata": {},
     "output_type": "display_data"
    }
   ],
   "source": [
    "ts_arcs = keys(paths_ts)"
   ]
  },
  {
   "cell_type": "code",
   "execution_count": 110,
   "metadata": {},
   "outputs": [
    {
     "data": {
      "text/plain": [
       "5-element Vector{Int64}:\n",
       " 11\n",
       "  2\n",
       "  3\n",
       "  8\n",
       "  9"
      ]
     },
     "metadata": {},
     "output_type": "display_data"
    }
   ],
   "source": [
    "paths_ts[(11,9)]"
   ]
  },
  {
   "cell_type": "code",
   "execution_count": 111,
   "metadata": {},
   "outputs": [
    {
     "data": {
      "text/plain": [
       "2-element Vector{Int64}:\n",
       " 11\n",
       " 17"
      ]
     },
     "metadata": {},
     "output_type": "display_data"
    }
   ],
   "source": [
    "paths_ts[(11,17)]"
   ]
  },
  {
   "cell_type": "code",
   "execution_count": 86,
   "metadata": {},
   "outputs": [
    {
     "data": {
      "text/plain": [
       "290-element Vector{Any}:\n",
       " (1, 2)\n",
       " (1, 3)\n",
       " (1, 4)\n",
       " (1, 5)\n",
       " (1, 8)\n",
       " (1, 9)\n",
       " (1, 10)\n",
       " (1, 11)\n",
       " (1, 12)\n",
       " (1, 13)\n",
       " ⋮\n",
       " (39, 41)\n",
       " (39, 42)\n",
       " (39, 43)\n",
       " (40, 41)\n",
       " (40, 42)\n",
       " (40, 43)\n",
       " (41, 42)\n",
       " (41, 43)\n",
       " (42, 43)"
      ]
     },
     "metadata": {},
     "output_type": "display_data"
    }
   ],
   "source": [
    "ts_arcs = []\n",
    "for i in 1:n_ts*n_layer\n",
    "    for j in 1:n_ts*n_layer\n",
    "        if traveltime_ts[i,j] > 0 && !isinf(traveltime_ts[i,j])\n",
    "            push!(ts_arcs, (i,j))\n",
    "        end\n",
    "    end\n",
    "end\n",
    "ts_arcs"
   ]
  },
  {
   "cell_type": "code",
   "execution_count": 89,
   "metadata": {},
   "outputs": [
    {
     "data": {
      "text/plain": [
       "4-element Vector{Int64}:\n",
       "  1\n",
       "  2\n",
       " 11\n",
       " 15"
      ]
     },
     "metadata": {},
     "output_type": "display_data"
    }
   ],
   "source": [
    "paths_ts[(1,15)]"
   ]
  },
  {
   "cell_type": "code",
   "execution_count": 178,
   "metadata": {},
   "outputs": [
    {
     "data": {
      "text/plain": [
       "2-element Vector{Int64}:\n",
       " 37\n",
       " 30"
      ]
     },
     "metadata": {},
     "output_type": "display_data"
    }
   ],
   "source": [
    "enumerate_paths(r,30)"
   ]
  },
  {
   "cell_type": "code",
   "execution_count": 138,
   "metadata": {},
   "outputs": [
    {
     "data": {
      "text/plain": [
       "19-element Vector{Vector{Int64}}:\n",
       " []\n",
       " [11, 19]\n",
       " [8]\n",
       " [15]\n",
       " []\n",
       " []\n",
       " [13]\n",
       " [3]\n",
       " [17]\n",
       " []\n",
       " [2]\n",
       " []\n",
       " [7]\n",
       " []\n",
       " [4]\n",
       " []\n",
       " [9]\n",
       " []\n",
       " [2]"
      ]
     },
     "metadata": {},
     "output_type": "display_data"
    }
   ],
   "source": [
    "TS_data.transfer"
   ]
  },
  {
   "cell_type": "code",
   "execution_count": 153,
   "metadata": {},
   "outputs": [],
   "source": [
    "trans_group = Dict()\n",
    "for (i,v) in enumerate(TS_data.transfer)\n",
    "    if !isempty(v)\n",
    "        if !isempty(intersect(TS_data.transfer[i], keys(trans_group)))\n",
    "            continue\n",
    "        end\n",
    "        trans_group[i] = [i;v]\n",
    "    end\n",
    "end"
   ]
  },
  {
   "cell_type": "code",
   "execution_count": 161,
   "metadata": {},
   "outputs": [
    {
     "data": {
      "text/plain": [
       "OrderedCollections.OrderedDict{Any, Any} with 5 entries:\n",
       "  2 => [2, 11, 19]\n",
       "  3 => [3, 8]\n",
       "  4 => [4, 15]\n",
       "  7 => [7, 13]\n",
       "  9 => [9, 17]"
      ]
     },
     "metadata": {},
     "output_type": "display_data"
    }
   ],
   "source": [
    "sort(trans_group)"
   ]
  },
  {
   "cell_type": "code",
   "execution_count": 160,
   "metadata": {},
   "outputs": [
    {
     "data": {
      "text/plain": [
       "Dict{Int64, Vector{Any}} with 5 entries:\n",
       "  4 => []\n",
       "  7 => []\n",
       "  2 => []\n",
       "  9 => []\n",
       "  3 => []"
      ]
     },
     "metadata": {},
     "output_type": "display_data"
    }
   ],
   "source": [
    "trans_arcs = Dict(k => [] for k in keys(trans_group))"
   ]
  },
  {
   "cell_type": "code",
   "execution_count": 163,
   "metadata": {},
   "outputs": [
    {
     "data": {
      "text/plain": [
       "57-element Vector{Float64}:\n",
       "  0.0\n",
       "  7.0\n",
       " 13.0\n",
       " 19.0\n",
       " 25.0\n",
       " Inf\n",
       " Inf\n",
       " 17.0\n",
       " 24.0\n",
       " 30.0\n",
       "  ⋮\n",
       " Inf\n",
       " Inf\n",
       " Inf\n",
       " Inf\n",
       " Inf\n",
       " Inf\n",
       " Inf\n",
       " Inf\n",
       " Inf"
      ]
     },
     "metadata": {},
     "output_type": "display_data"
    }
   ],
   "source": [
    "for (k,v) in trans_group\n",
    "    for ts in v\n",
    "        if r.dists[v]\n",
    "        end\n",
    "    end\n",
    "end"
   ]
  },
  {
   "cell_type": "code",
   "execution_count": null,
   "metadata": {},
   "outputs": [],
   "source": []
  }
 ],
 "metadata": {
  "kernelspec": {
   "display_name": "Julia 1.9.4",
   "language": "julia",
   "name": "julia-1.9"
  },
  "language_info": {
   "file_extension": ".jl",
   "mimetype": "application/julia",
   "name": "julia",
   "version": "1.9.4"
  }
 },
 "nbformat": 4,
 "nbformat_minor": 2
}
