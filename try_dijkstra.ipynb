{
 "cells": [
  {
   "cell_type": "code",
   "execution_count": 1,
   "metadata": {},
   "outputs": [],
   "source": [
    "using Graphs\n",
    "using SimpleWeightedGraphs\n",
    "using CSV, DataFrames"
   ]
  },
  {
   "cell_type": "code",
   "execution_count": 2,
   "metadata": {},
   "outputs": [
    {
     "data": {
      "text/plain": [
       "3"
      ]
     },
     "metadata": {},
     "output_type": "display_data"
    }
   ],
   "source": [
    "network = \"crossring/\"\n",
    "folder = network * \"l3-c5-d2-bt2_test\"\n",
    "n_tsline = 3"
   ]
  },
  {
   "cell_type": "code",
   "execution_count": 93,
   "metadata": {},
   "outputs": [
    {
     "data": {
      "text/html": [
       "<div><div style = \"float: left;\"><span>19×4 DataFrame</span></div><div style = \"clear: both;\"></div></div><div class = \"data-frame\" style = \"overflow-x: scroll;\"><table class = \"data-frame\" style = \"margin-bottom: 6px;\"><thead><tr class = \"header\"><th class = \"rowNumber\" style = \"font-weight: bold; text-align: right;\">Row</th><th style = \"text-align: left;\">x</th><th style = \"text-align: left;\">y</th><th style = \"text-align: left;\">line</th><th style = \"text-align: left;\">transfer</th></tr><tr class = \"subheader headerLastRow\"><th class = \"rowNumber\" style = \"font-weight: bold; text-align: right;\"></th><th title = \"Float64\" style = \"text-align: left;\">Float64</th><th title = \"Float64\" style = \"text-align: left;\">Float64</th><th title = \"Int64\" style = \"text-align: left;\">Int64</th><th title = \"Union{Missing, String7}\" style = \"text-align: left;\">String7?</th></tr></thead><tbody><tr><td class = \"rowNumber\" style = \"font-weight: bold; text-align: right;\">1</td><td style = \"text-align: right;\">-6.0</td><td style = \"text-align: right;\">0.0</td><td style = \"text-align: right;\">1</td><td style = \"font-style: italic; text-align: left;\">missing</td></tr><tr><td class = \"rowNumber\" style = \"font-weight: bold; text-align: right;\">2</td><td style = \"text-align: right;\">-3.0</td><td style = \"text-align: right;\">0.0</td><td style = \"text-align: right;\">1</td><td style = \"text-align: left;\">11,19</td></tr><tr><td class = \"rowNumber\" style = \"font-weight: bold; text-align: right;\">3</td><td style = \"text-align: right;\">0.0</td><td style = \"text-align: right;\">0.0</td><td style = \"text-align: right;\">1</td><td style = \"text-align: left;\">8</td></tr><tr><td class = \"rowNumber\" style = \"font-weight: bold; text-align: right;\">4</td><td style = \"text-align: right;\">3.0</td><td style = \"text-align: right;\">0.0</td><td style = \"text-align: right;\">1</td><td style = \"text-align: left;\">15</td></tr><tr><td class = \"rowNumber\" style = \"font-weight: bold; text-align: right;\">5</td><td style = \"text-align: right;\">6.0</td><td style = \"text-align: right;\">0.0</td><td style = \"text-align: right;\">1</td><td style = \"text-align: left;\"></td></tr><tr><td class = \"rowNumber\" style = \"font-weight: bold; text-align: right;\">6</td><td style = \"text-align: right;\">0.0</td><td style = \"text-align: right;\">6.0</td><td style = \"text-align: right;\">2</td><td style = \"text-align: left;\"></td></tr><tr><td class = \"rowNumber\" style = \"font-weight: bold; text-align: right;\">7</td><td style = \"text-align: right;\">0.0</td><td style = \"text-align: right;\">3.0</td><td style = \"text-align: right;\">2</td><td style = \"text-align: left;\">13</td></tr><tr><td class = \"rowNumber\" style = \"font-weight: bold; text-align: right;\">8</td><td style = \"text-align: right;\">0.0</td><td style = \"text-align: right;\">0.0</td><td style = \"text-align: right;\">2</td><td style = \"text-align: left;\">3</td></tr><tr><td class = \"rowNumber\" style = \"font-weight: bold; text-align: right;\">9</td><td style = \"text-align: right;\">0.0</td><td style = \"text-align: right;\">-3.0</td><td style = \"text-align: right;\">2</td><td style = \"text-align: left;\">17</td></tr><tr><td class = \"rowNumber\" style = \"font-weight: bold; text-align: right;\">10</td><td style = \"text-align: right;\">0.0</td><td style = \"text-align: right;\">-6.0</td><td style = \"text-align: right;\">2</td><td style = \"text-align: left;\"></td></tr><tr><td class = \"rowNumber\" style = \"font-weight: bold; text-align: right;\">11</td><td style = \"text-align: right;\">-3.0</td><td style = \"text-align: right;\">0.0</td><td style = \"text-align: right;\">3</td><td style = \"text-align: left;\">2</td></tr><tr><td class = \"rowNumber\" style = \"font-weight: bold; text-align: right;\">12</td><td style = \"text-align: right;\">-3.0</td><td style = \"text-align: right;\">3.0</td><td style = \"text-align: right;\">3</td><td style = \"text-align: left;\"></td></tr><tr><td class = \"rowNumber\" style = \"font-weight: bold; text-align: right;\">13</td><td style = \"text-align: right;\">0.0</td><td style = \"text-align: right;\">3.0</td><td style = \"text-align: right;\">3</td><td style = \"text-align: left;\">7</td></tr><tr><td class = \"rowNumber\" style = \"font-weight: bold; text-align: right;\">14</td><td style = \"text-align: right;\">3.0</td><td style = \"text-align: right;\">3.0</td><td style = \"text-align: right;\">3</td><td style = \"text-align: left;\"></td></tr><tr><td class = \"rowNumber\" style = \"font-weight: bold; text-align: right;\">15</td><td style = \"text-align: right;\">3.0</td><td style = \"text-align: right;\">0.0</td><td style = \"text-align: right;\">3</td><td style = \"text-align: left;\">4</td></tr><tr><td class = \"rowNumber\" style = \"font-weight: bold; text-align: right;\">16</td><td style = \"text-align: right;\">3.0</td><td style = \"text-align: right;\">-3.0</td><td style = \"text-align: right;\">3</td><td style = \"text-align: left;\"></td></tr><tr><td class = \"rowNumber\" style = \"font-weight: bold; text-align: right;\">17</td><td style = \"text-align: right;\">0.0</td><td style = \"text-align: right;\">-3.0</td><td style = \"text-align: right;\">3</td><td style = \"text-align: left;\">9</td></tr><tr><td class = \"rowNumber\" style = \"font-weight: bold; text-align: right;\">18</td><td style = \"text-align: right;\">-3.0</td><td style = \"text-align: right;\">-3.0</td><td style = \"text-align: right;\">3</td><td style = \"text-align: left;\"></td></tr><tr><td class = \"rowNumber\" style = \"font-weight: bold; text-align: right;\">19</td><td style = \"text-align: right;\">-3.0</td><td style = \"text-align: right;\">0.0</td><td style = \"text-align: right;\">3</td><td style = \"text-align: left;\">2</td></tr></tbody></table></div>"
      ],
      "text/latex": [
       "\\begin{tabular}{r|cccc}\n",
       "\t& x & y & line & transfer\\\\\n",
       "\t\\hline\n",
       "\t& Float64 & Float64 & Int64 & String7?\\\\\n",
       "\t\\hline\n",
       "\t1 & -6.0 & 0.0 & 1 & \\emph{missing} \\\\\n",
       "\t2 & -3.0 & 0.0 & 1 & 11,19 \\\\\n",
       "\t3 & 0.0 & 0.0 & 1 & 8 \\\\\n",
       "\t4 & 3.0 & 0.0 & 1 & 15 \\\\\n",
       "\t5 & 6.0 & 0.0 & 1 &  \\\\\n",
       "\t6 & 0.0 & 6.0 & 2 &  \\\\\n",
       "\t7 & 0.0 & 3.0 & 2 & 13 \\\\\n",
       "\t8 & 0.0 & 0.0 & 2 & 3 \\\\\n",
       "\t9 & 0.0 & -3.0 & 2 & 17 \\\\\n",
       "\t10 & 0.0 & -6.0 & 2 &  \\\\\n",
       "\t11 & -3.0 & 0.0 & 3 & 2 \\\\\n",
       "\t12 & -3.0 & 3.0 & 3 &  \\\\\n",
       "\t13 & 0.0 & 3.0 & 3 & 7 \\\\\n",
       "\t14 & 3.0 & 3.0 & 3 &  \\\\\n",
       "\t15 & 3.0 & 0.0 & 3 & 4 \\\\\n",
       "\t16 & 3.0 & -3.0 & 3 &  \\\\\n",
       "\t17 & 0.0 & -3.0 & 3 & 9 \\\\\n",
       "\t18 & -3.0 & -3.0 & 3 &  \\\\\n",
       "\t19 & -3.0 & 0.0 & 3 & 2 \\\\\n",
       "\\end{tabular}\n"
      ],
      "text/plain": [
       "\u001b[1m19×4 DataFrame\u001b[0m\n",
       "\u001b[1m Row \u001b[0m│\u001b[1m x       \u001b[0m\u001b[1m y       \u001b[0m\u001b[1m line  \u001b[0m\u001b[1m transfer \u001b[0m\n",
       "     │\u001b[90m Float64 \u001b[0m\u001b[90m Float64 \u001b[0m\u001b[90m Int64 \u001b[0m\u001b[90m String7? \u001b[0m\n",
       "─────┼───────────────────────────────────\n",
       "   1 │    -6.0      0.0      1 \u001b[90m missing  \u001b[0m\n",
       "   2 │    -3.0      0.0      1  11,19\n",
       "   3 │     0.0      0.0      1  8\n",
       "   4 │     3.0      0.0      1  15\n",
       "   5 │     6.0      0.0      1\n",
       "   6 │     0.0      6.0      2\n",
       "   7 │     0.0      3.0      2  13\n",
       "   8 │     0.0      0.0      2  3\n",
       "  ⋮  │    ⋮        ⋮       ⋮       ⋮\n",
       "  13 │     0.0      3.0      3  7\n",
       "  14 │     3.0      3.0      3\n",
       "  15 │     3.0      0.0      3  4\n",
       "  16 │     3.0     -3.0      3\n",
       "  17 │     0.0     -3.0      3  9\n",
       "  18 │    -3.0     -3.0      3\n",
       "  19 │    -3.0      0.0      3  2\n",
       "\u001b[36m                           4 rows omitted\u001b[0m"
      ]
     },
     "metadata": {},
     "output_type": "display_data"
    }
   ],
   "source": [
    "TS_data = CSV.read( network * \"crossring-network.csv\", DataFrame, header = true)"
   ]
  },
  {
   "cell_type": "code",
   "execution_count": 94,
   "metadata": {},
   "outputs": [
    {
     "data": {
      "text/plain": [
       "19-element Vector{Vector{Int64}}:\n",
       " []\n",
       " [11, 19]\n",
       " [8]\n",
       " [15]\n",
       " []\n",
       " []\n",
       " [13]\n",
       " [3]\n",
       " [17]\n",
       " []\n",
       " [2]\n",
       " []\n",
       " [7]\n",
       " []\n",
       " [4]\n",
       " []\n",
       " [9]\n",
       " []\n",
       " [2]"
      ]
     },
     "metadata": {},
     "output_type": "display_data"
    }
   ],
   "source": [
    "# Function to parse strings into appropriate data types\n",
    "function parse_column(str)\n",
    "    if ismissing(str) || isempty(str)\n",
    "        return Int[]\n",
    "    elseif occursin(',', str)\n",
    "        return parse.(Int, split(str, ','))\n",
    "    else\n",
    "        return [parse(Int, str)]\n",
    "    end\n",
    "end\n",
    "\n",
    "TS_data.transfer = parse_column.(TS_data.transfer)"
   ]
  },
  {
   "cell_type": "code",
   "execution_count": 8,
   "metadata": {},
   "outputs": [
    {
     "data": {
      "text/plain": [
       "3-element Vector{DataFrame}:\n",
       " \u001b[1m3×6 DataFrame\u001b[0m\n",
       "\u001b[1m Row \u001b[0m│\u001b[1m 1       \u001b[0m\u001b[1m 2       \u001b[0m\u001b[1m 3       \u001b[0m\u001b[1m 4       \u001b[0m\u001b[1m 5       \u001b[0m\u001b[1m Direction \u001b[0m\n",
       "     │\u001b[90m Float64 \u001b[0m\u001b[90m Float64 \u001b[0m\u001b[90m Float64 \u001b[0m\u001b[90m Float64 \u001b[0m\u001b[90m Float64 \u001b[0m\u001b[90m Float64   \u001b[0m\n",
       "─────┼────────────────────────────────────────────────────────\n",
       "   1 │    20.0     26.0     32.0     38.0     44.0        1.0\n",
       "   2 │    49.0     43.0     37.0     31.0     25.0        0.0\n",
       "   3 │    50.0     56.0     62.0     68.0     74.0        1.0\n",
       " \u001b[1m2×6 DataFrame\u001b[0m\n",
       "\u001b[1m Row \u001b[0m│\u001b[1m 6       \u001b[0m\u001b[1m 7       \u001b[0m\u001b[1m 8       \u001b[0m\u001b[1m 9       \u001b[0m\u001b[1m 10      \u001b[0m\u001b[1m Direction \u001b[0m\n",
       "     │\u001b[90m Float64 \u001b[0m\u001b[90m Float64 \u001b[0m\u001b[90m Float64 \u001b[0m\u001b[90m Float64 \u001b[0m\u001b[90m Float64 \u001b[0m\u001b[90m Float64   \u001b[0m\n",
       "─────┼────────────────────────────────────────────────────────\n",
       "   1 │    23.0     29.0     35.0     41.0     47.0        1.0\n",
       "   2 │    52.0     46.0     40.0     34.0     28.0        0.0\n",
       " \u001b[1m2×10 DataFrame\u001b[0m\n",
       "\u001b[1m Row \u001b[0m│\u001b[1m 11      \u001b[0m\u001b[1m 12      \u001b[0m\u001b[1m 13      \u001b[0m\u001b[1m 14      \u001b[0m\u001b[1m 15      \u001b[0m\u001b[1m 16      \u001b[0m\u001b[1m 17      \u001b[0m\u001b[1m 18      \u001b[0m\u001b[1m\u001b[0m ⋯\n",
       "     │\u001b[90m Float64 \u001b[0m\u001b[90m Float64 \u001b[0m\u001b[90m Float64 \u001b[0m\u001b[90m Float64 \u001b[0m\u001b[90m Float64 \u001b[0m\u001b[90m Float64 \u001b[0m\u001b[90m Float64 \u001b[0m\u001b[90m Float64 \u001b[0m\u001b[90m\u001b[0m ⋯\n",
       "─────┼──────────────────────────────────────────────────────────────────────────\n",
       "   1 │    26.0     32.0     38.0     44.0     50.0     56.0     62.0     68.0  ⋯\n",
       "   2 │    79.0     73.0     67.0     61.0     55.0     49.0     43.0     37.0\n",
       "\u001b[36m                                                               2 columns omitted\u001b[0m"
      ]
     },
     "metadata": {},
     "output_type": "display_data"
    }
   ],
   "source": [
    "timetables = [CSV.read(\"$folder/timetable_line$i.csv\", DataFrame) for i in 1:n_tsline]"
   ]
  },
  {
   "cell_type": "code",
   "execution_count": 96,
   "metadata": {},
   "outputs": [
    {
     "data": {
      "text/plain": [
       "19"
      ]
     },
     "metadata": {},
     "output_type": "display_data"
    }
   ],
   "source": [
    "n_layer = maximum(nrow.(timetables))\n",
    "n_ts = size(TS_data)[1]"
   ]
  },
  {
   "cell_type": "code",
   "execution_count": 10,
   "metadata": {},
   "outputs": [],
   "source": [
    "struct TransitStation\n",
    "    ID::Int64 # the phsical number of transit stop\n",
    "    coord::Tuple{Float64,Float64}\n",
    "    layer_no::Int64\n",
    "    dep_time::Float64\n",
    "    arr_time::Float64\n",
    "    lineNo::Int64 # at which transit line\n",
    "    transfer::Vector{Int64}\n",
    "    μ::Float64 # service time\n",
    "end"
   ]
  },
  {
   "cell_type": "code",
   "execution_count": 8,
   "metadata": {},
   "outputs": [],
   "source": [
    "# Base.isnan(ts::TransitStation) = !isa(ts, TransitStation)"
   ]
  },
  {
   "cell_type": "code",
   "execution_count": 97,
   "metadata": {},
   "outputs": [
    {
     "data": {
      "text/plain": [
       "3×19 Matrix{Int64}:\n",
       "  1   2   3   4   5   6   7   8   9  10  11  12  13  14  15  16  17  18  19\n",
       " 20  21  22  23  24  25  26  27  28  29  30  31  32  33  34  35  36  37  38\n",
       " 39  40  41  42  43  44  45  46  47  48  49  50  51  52  53  54  55  56  57"
      ]
     },
     "metadata": {},
     "output_type": "display_data"
    }
   ],
   "source": [
    "ts_map = permutedims(reshape(1:n_ts*n_layer, n_ts, n_layer)) # row: layer number; column: transit stops"
   ]
  },
  {
   "cell_type": "code",
   "execution_count": 98,
   "metadata": {},
   "outputs": [],
   "source": [
    "dwel_time = 1\n",
    "ts_nodes = Vector(undef, n_ts*n_layer)\n",
    "for lyr in 1:n_layer\n",
    "    for ts in 1:n_ts\n",
    "        coord = (TS_data[ts,:x], TS_data[ts,:y])\n",
    "        lineNo = TS_data[ts,:line]\n",
    "        transfer = TS_data[ts, :transfer]\n",
    "        if lyr <= size(timetables[lineNo])[1] \n",
    "            dep_time = timetables[lineNo][lyr,\"$ts\"]\n",
    "            arr_time = dep_time .- dwel_time\n",
    "            ts_dum = ts_map[lyr, ts]\n",
    "            ts_nodes[ts_dum] = TransitStation(ts, coord, lyr, dep_time, arr_time, lineNo, transfer, 0.0)\n",
    "        else\n",
    "            ts_dum = ts_map[lyr, ts]\n",
    "            ts_map[lyr, ts] = 0\n",
    "            ts_nodes[ts_dum] = NaN\n",
    "        end\n",
    "    end\n",
    "end"
   ]
  },
  {
   "cell_type": "code",
   "execution_count": 13,
   "metadata": {},
   "outputs": [
    {
     "data": {
      "text/plain": [
       "57-element Vector{Any}:\n",
       "    TransitStation(1, (-6.0, 0.0), 1, 20.0, 19.0, 1, [0], 0.0)\n",
       "    TransitStation(2, (-3.0, 0.0), 1, 26.0, 25.0, 1, [11, 19], 0.0)\n",
       "    TransitStation(3, (0.0, 0.0), 1, 32.0, 31.0, 1, [8], 0.0)\n",
       "    TransitStation(4, (3.0, 0.0), 1, 38.0, 37.0, 1, [15], 0.0)\n",
       "    TransitStation(5, (6.0, 0.0), 1, 44.0, 43.0, 1, [0], 0.0)\n",
       "    TransitStation(6, (0.0, 6.0), 1, 23.0, 22.0, 2, [0], 0.0)\n",
       "    TransitStation(7, (0.0, 3.0), 1, 29.0, 28.0, 2, [13], 0.0)\n",
       "    TransitStation(8, (0.0, 0.0), 1, 35.0, 34.0, 2, [3], 0.0)\n",
       "    TransitStation(9, (0.0, -3.0), 1, 41.0, 40.0, 2, [17], 0.0)\n",
       "    TransitStation(10, (0.0, -6.0), 1, 47.0, 46.0, 2, [0], 0.0)\n",
       "   ⋮\n",
       " NaN\n",
       " NaN\n",
       " NaN\n",
       " NaN\n",
       " NaN\n",
       " NaN\n",
       " NaN\n",
       " NaN\n",
       " NaN"
      ]
     },
     "metadata": {},
     "output_type": "display_data"
    }
   ],
   "source": [
    "# filter!(x -> isa(x,TransitStation), ts_nodes)\n",
    "ts_nodes"
   ]
  },
  {
   "cell_type": "code",
   "execution_count": 14,
   "metadata": {},
   "outputs": [
    {
     "data": {
      "text/plain": [
       "{57, 0} directed simple Int64 graph with Float64 weights"
      ]
     },
     "metadata": {},
     "output_type": "display_data"
    }
   ],
   "source": [
    "ts_graph = SimpleWeightedDiGraph(n_ts*n_layer)"
   ]
  },
  {
   "cell_type": "code",
   "execution_count": 43,
   "metadata": {},
   "outputs": [
    {
     "data": {
      "text/plain": [
       "+ (generic function with 218 methods)"
      ]
     },
     "metadata": {},
     "output_type": "display_data"
    }
   ],
   "source": [
    "import Base.+\n",
    "+(range::UnitRange{Int64}, offset::Int64) = UnitRange(range.start + offset, range.stop + offset)"
   ]
  },
  {
   "cell_type": "code",
   "execution_count": 47,
   "metadata": {},
   "outputs": [
    {
     "data": {
      "text/plain": [
       "1:5"
      ]
     },
     "metadata": {},
     "output_type": "display_data"
    }
   ],
   "source": [
    "stops_line = [count(x -> x == i, TS_data.line) for i in 1:n_tsline]\n",
    "start_indices = cumsum([1;stops_line[1:end-1]])\n",
    "ranges_list = [start: start + length - 1 for (start, length) in zip(start_indices, stops_line)]"
   ]
  },
  {
   "cell_type": "code",
   "execution_count": 62,
   "metadata": {},
   "outputs": [
    {
     "name": "stdout",
     "output_type": "stream",
     "text": [
      "ts range: 1:5\n",
      "ts range: 20:24\n",
      "ts range: 39:43\n"
     ]
    }
   ],
   "source": [
    "ts_arcs = []\n",
    "ts_arcs_dict = Dict((l,lyr) =>[] for lyr in 1:n_layer for l in 1:n_ts)\n",
    "for lyr in 1:n_layer\n",
    "    # for l in 1:n_tsline\n",
    "    for l in 1:1\n",
    "        # number_stops = stops_line[l]\n",
    "        ts_range = ranges_list[l] + 19*(lyr-1)\n",
    "        if ts_map[lyr,ranges_list[l].start] == 0\n",
    "            continue\n",
    "        end\n",
    "        direction = timetables[l].Direction[lyr]\n",
    "        println(\"ts range: \", ts_range)\n",
    "        \n",
    "        # arcs within the same line\n",
    "        for ts1 in ts_range\n",
    "            for ts2 in ts_range             \n",
    "                if direction == 1 && ts2 > ts1\n",
    "                    push!(ts_arcs, (ts1,ts2))\n",
    "                    push!(ts_arcs_dict[(l,lyr)], (ts1,ts2))\n",
    "                elseif direction == 0 && ts1 < ts2\n",
    "                    push!(ts_arcs, (ts2, ts1))\n",
    "                    push!(ts_arcs_dict[(l,lyr)], (ts2,ts1))\n",
    "                end\n",
    "            end\n",
    "            if isempty(ts1.transfer)\n",
    "                continue\n",
    "            else\n",
    "                \n",
    "            end\n",
    "        end\n",
    "\n",
    "    end\n",
    "\n",
    "    # if lyr == 1\n",
    "    #     break\n",
    "    # end\n",
    "end"
   ]
  },
  {
   "cell_type": "code",
   "execution_count": 115,
   "metadata": {},
   "outputs": [
    {
     "data": {
      "text/plain": [
       "find_transfer_arcs (generic function with 3 methods)"
      ]
     },
     "metadata": {},
     "output_type": "display_data"
    }
   ],
   "source": [
    "function find_transfer_arcs(ts::Int64, ts_nodes::Vector, ts_map::Matrix)\n",
    "    ts1 = ts_nodes[ts]\n",
    "    transfers = ts1.transfer\n",
    "    for ts2_ID in transfers\n",
    "        ts2_dummies = ts_map[:,ts2_ID]\n",
    "        filter!(x -> x == 0, ts2_dummies)\n",
    "        for ts2_dm in ts2_dummies\n",
    "            @info ts2_dm\n",
    "            ts2 = ts_nodes[ts2_dm]\n",
    "            if ts1.arr_time > ts2.dep_time && ts1.arr_time <= ts2.dep_time + 10\n",
    "                println(ts1,ts2)\n",
    "            end\n",
    "        end\n",
    "    end\n",
    "end"
   ]
  },
  {
   "cell_type": "code",
   "execution_count": 116,
   "metadata": {},
   "outputs": [
    {
     "name": "stderr",
     "output_type": "stream",
     "text": [
      "┌ Info: 11\n",
      "└ @ Main c:\\Users\\yumeng\\OneDrive - University of Luxembourg\\Documents\\Yumeng\\PhDproject\\WP2\\code\\EIDARPgenerator\\try_dijkstra.ipynb:7\n",
      "┌ Info: 30\n",
      "└ @ Main c:\\Users\\yumeng\\OneDrive - University of Luxembourg\\Documents\\Yumeng\\PhDproject\\WP2\\code\\EIDARPgenerator\\try_dijkstra.ipynb:7\n",
      "┌ Info: 0\n",
      "└ @ Main c:\\Users\\yumeng\\OneDrive - University of Luxembourg\\Documents\\Yumeng\\PhDproject\\WP2\\code\\EIDARPgenerator\\try_dijkstra.ipynb:7\n"
     ]
    },
    {
     "ename": "BoundsError",
     "evalue": "BoundsError: attempt to access 57-element Vector{Any} at index [0]",
     "output_type": "error",
     "traceback": [
      "BoundsError: attempt to access 57-element Vector{Any} at index [0]\n",
      "\n",
      "Stacktrace:\n",
      " [1] getindex(A::Vector{Any}, i1::Int64)\n",
      "   @ Base .\\essentials.jl:13\n",
      " [2] find_transfer_arcs(ts::Int64, ts_nodes::Vector{Any}, ts_map::Matrix{Int64})\n",
      "   @ Main c:\\Users\\yumeng\\OneDrive - University of Luxembourg\\Documents\\Yumeng\\PhDproject\\WP2\\code\\EIDARPgenerator\\try_dijkstra.ipynb:8\n",
      " [3] top-level scope\n",
      "   @ c:\\Users\\yumeng\\OneDrive - University of Luxembourg\\Documents\\Yumeng\\PhDproject\\WP2\\code\\EIDARPgenerator\\try_dijkstra.ipynb:1"
     ]
    }
   ],
   "source": [
    "find_transfer_arcs(2, ts_nodes, ts_map)"
   ]
  },
  {
   "cell_type": "code",
   "execution_count": 112,
   "metadata": {},
   "outputs": [
    {
     "data": {
      "text/plain": [
       "2-element Vector{Int64}:\n",
       " 11\n",
       " 19"
      ]
     },
     "metadata": {},
     "output_type": "display_data"
    }
   ],
   "source": [
    "ts_nodes[2].transfer"
   ]
  },
  {
   "cell_type": "code",
   "execution_count": null,
   "metadata": {},
   "outputs": [],
   "source": []
  }
 ],
 "metadata": {
  "kernelspec": {
   "display_name": "Julia 1.9.4",
   "language": "julia",
   "name": "julia-1.9"
  },
  "language_info": {
   "file_extension": ".jl",
   "mimetype": "application/julia",
   "name": "julia",
   "version": "1.9.4"
  }
 },
 "nbformat": 4,
 "nbformat_minor": 2
}
